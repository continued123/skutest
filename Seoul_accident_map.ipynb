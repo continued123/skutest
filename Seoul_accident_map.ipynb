{
 "cells": [
  {
   "cell_type": "code",
   "execution_count": null,
   "metadata": {
    "colab": {
     "base_uri": "https://localhost:8080/"
    },
    "executionInfo": {
     "elapsed": 3662,
     "status": "ok",
     "timestamp": 1634970735692,
     "user": {
      "displayName": "­이준호 / 학생 / 협동과정 인지과학전공",
      "photoUrl": "https://lh3.googleusercontent.com/a/default-user=s64",
      "userId": "00817346367135446304"
     },
     "user_tz": -540
    },
    "id": "CfEpOFeE96wK",
    "outputId": "fd9a76d6-09bc-4c31-b10a-8dc80931154d"
   },
   "outputs": [],
   "source": [
    "!pip install folium==0.12.1"
   ]
  },
  {
   "cell_type": "code",
   "execution_count": null,
   "metadata": {
    "executionInfo": {
     "elapsed": 6867,
     "status": "ok",
     "timestamp": 1634970742554,
     "user": {
      "displayName": "­이준호 / 학생 / 협동과정 인지과학전공",
      "photoUrl": "https://lh3.googleusercontent.com/a/default-user=s64",
      "userId": "00817346367135446304"
     },
     "user_tz": -540
    },
    "id": "uiii6qe26YVe"
   },
   "outputs": [],
   "source": [
    "########## 이 부분의 코드를 실행 후, 런타임->다시시작 을 해야 한글 폰트가 적용됩니다 #######\n",
    "\n",
    "\n",
    "## 한글 시각화 관련 코드\n",
    "import matplotlib.pyplot as plt\n",
    "import matplotlib.font_manager as fm  # 폰트 관련 용도\n",
    "# 나눔 폰트 설치\n",
    "!apt-get update -qq\n",
    "!apt-get install fonts-nanum* -qq\n",
    "# 나눔 글꼴 사용 설정\n",
    "path = '/usr/share/fonts/truetype/nanum/NanumBarunGothic.ttf'  # 설치된 나눔글꼴중 원하는 녀석의 전체 경로를 가져오자\n",
    "font_name = fm.FontProperties(fname=path, size=10).get_name()\n",
    "# print(font_name)\n",
    "plt.rc('font', family=font_name)\n",
    "# 폰트 매니저 재설정\n",
    "fm._rebuild()\n",
    "\n",
    "\n",
    "\n"
   ]
  },
  {
   "cell_type": "code",
   "execution_count": null,
   "metadata": {
    "executionInfo": {
     "elapsed": 515,
     "status": "ok",
     "timestamp": 1634970743058,
     "user": {
      "displayName": "­이준호 / 학생 / 협동과정 인지과학전공",
      "photoUrl": "https://lh3.googleusercontent.com/a/default-user=s64",
      "userId": "00817346367135446304"
     },
     "user_tz": -540
    },
    "id": "OS6sPsB096wR"
   },
   "outputs": [],
   "source": [
    "import json\n",
    "import folium\n",
    "import pandas as pd\n",
    "import requests\n",
    "from folium.features import DivIcon\n"
   ]
  },
  {
   "cell_type": "markdown",
   "metadata": {
    "id": "3vTsflhR96wS"
   },
   "source": [
    "## 공공데이터 API - 데이터 불러오기"
   ]
  },
  {
   "cell_type": "code",
   "execution_count": null,
   "metadata": {
    "colab": {
     "base_uri": "https://localhost:8080/"
    },
    "executionInfo": {
     "elapsed": 364,
     "status": "ok",
     "timestamp": 1634970743420,
     "user": {
      "displayName": "­이준호 / 학생 / 협동과정 인지과학전공",
      "photoUrl": "https://lh3.googleusercontent.com/a/default-user=s64",
      "userId": "00817346367135446304"
     },
     "user_tz": -540
    },
    "id": "o8SrnUXc96wU",
    "outputId": "cf733938-001c-4b2c-dc0f-680f7b17eaed",
    "scrolled": true
   },
   "outputs": [],
   "source": [
    "\n",
    "# 보행어린이사고다발지역정보 Rest 조회\n",
    "url = 'http://apis.data.go.kr/B552061/frequentzoneChild/getRestFrequentzoneChild'\n",
    "\n",
    "# 일반 인증키(Encoding)\n",
    "my_key = 'WUODu1UyNif9cl9LO%2FgbX43ch97p1tFDM48UM8h05ivV0NOeEYaWSBWm9LNdstWaAXZWjhY1DpUu5G%2BUqg%2BUDA%3D%3D'\n",
    "\n",
    "params ={\n",
    "        'searchYearCd' : '2020', \n",
    "        'siDo' : '11', # 서울특별시 = 11\n",
    "        'guGun' : '320', \n",
    "        'type' : 'json', \n",
    "        'numOfRows' : '10', \n",
    "        'pageNo' : '1' \n",
    "}\n",
    "\n",
    "\n",
    "response = requests.get(f'{url}?serviceKey={my_key}', params=params)\n",
    "dict(response.json())"
   ]
  },
  {
   "cell_type": "code",
   "execution_count": null,
   "metadata": {
    "executionInfo": {
     "elapsed": 7,
     "status": "ok",
     "timestamp": 1634970743420,
     "user": {
      "displayName": "­이준호 / 학생 / 협동과정 인지과학전공",
      "photoUrl": "https://lh3.googleusercontent.com/a/default-user=s64",
      "userId": "00817346367135446304"
     },
     "user_tz": -540
    },
    "id": "3xQFyLwj96wW"
   },
   "outputs": [],
   "source": []
  },
  {
   "cell_type": "markdown",
   "metadata": {
    "id": "p3oBk9Vh96wW"
   },
   "source": [
    "### 구 정보 취합"
   ]
  },
  {
   "cell_type": "code",
   "execution_count": null,
   "metadata": {
    "colab": {
     "base_uri": "https://localhost:8080/"
    },
    "executionInfo": {
     "elapsed": 8,
     "status": "ok",
     "timestamp": 1634970743421,
     "user": {
      "displayName": "­이준호 / 학생 / 협동과정 인지과학전공",
      "photoUrl": "https://lh3.googleusercontent.com/a/default-user=s64",
      "userId": "00817346367135446304"
     },
     "user_tz": -540
    },
    "id": "-x5gRczy96wX",
    "outputId": "64e60dc9-52c1-4480-cb61-056beeed2b54"
   },
   "outputs": [],
   "source": [
    "guGu_codes = \"\"\"강남구 680 강동구 740 강북구 305 강서구 500 관악구 620 광진구 215 구로구\n",
    "530 금천구 545 노원구 350 도봉구 320 동대문구 230 동작구 590 마포구 440 서대문구\n",
    "410 서초구 650 성동구 200 성북구 290 송파구 710 양천구 470 영등포구 560 용산구\n",
    "170 은평구 380 종로구 110 중구 140 중랑구 260\"\"\"\n",
    "\n",
    "guGu_codes = guGu_codes.split()\n",
    "\n",
    "gus = [x for i, x in enumerate(guGu_codes) if i%2==0]\n",
    "codes = [x for i, x in enumerate(guGu_codes) if i%2==1]\n",
    "\n",
    "gu_dict = {gu:code for gu, code in zip(gus, codes)}\n",
    "gu_dict"
   ]
  },
  {
   "cell_type": "markdown",
   "metadata": {
    "id": "u0tVwd4t96wY"
   },
   "source": [
    "### 불러온 데이터 > 데이터프레임 형태로 변환"
   ]
  },
  {
   "cell_type": "code",
   "execution_count": null,
   "metadata": {
    "colab": {
     "base_uri": "https://localhost:8080/",
     "height": 520
    },
    "executionInfo": {
     "elapsed": 12339,
     "status": "ok",
     "timestamp": 1634970755756,
     "user": {
      "displayName": "­이준호 / 학생 / 협동과정 인지과학전공",
      "photoUrl": "https://lh3.googleusercontent.com/a/default-user=s64",
      "userId": "00817346367135446304"
     },
     "user_tz": -540
    },
    "id": "8KzAp04S96wZ",
    "outputId": "0e370656-5080-4f3c-be2d-1ac50786696d"
   },
   "outputs": [],
   "source": [
    "\n",
    "df_result = pd.DataFrame()\n",
    "\n",
    "\n",
    "\n",
    "# main url\n",
    "url = 'http://apis.data.go.kr/B552061/frequentzoneChild/getRestFrequentzoneChild'\n",
    "\n",
    "# 일반 인증키(Encoding)\n",
    "my_key = 'WUODu1UyNif9cl9LO%2FgbX43ch97p1tFDM48UM8h05ivV0NOeEYaWSBWm9LNdstWaAXZWjhY1DpUu5G%2BUqg%2BUDA%3D%3D'\n",
    "\n",
    "search_year = 2019\n",
    "\n",
    "for gu, code in gu_dict.items():\n",
    "    params ={\n",
    "            'searchYearCd' : f'{search_year}',  # 검색 년도\n",
    "            'siDo' : '11', # 서울특별시 = 11\n",
    "            'guGun' : code, # 검색 지역\n",
    "            'type' : 'json', \n",
    "            'numOfRows' : '30', \n",
    "            'pageNo' : '1' \n",
    "    }\n",
    "\n",
    "\n",
    "    response = requests.get(f'{url}?serviceKey={my_key}', params=params)\n",
    "    result = dict(response.json())\n",
    "    \n",
    "    if result['resultMsg'] == 'NODATA_ERROR':  # 요청시 데이터가 없는 경우\n",
    "#         print('NODATA_ERROR', code)\n",
    "        pass\n",
    "\n",
    "    else:  # 데이터가 있으면 아래 형태로 추가\n",
    "        for item in result['items']['item']:\n",
    "            \n",
    "            df_result = df_result.append( pd.DataFrame( {'year':search_year,\n",
    "                                                         'code':code, \n",
    "                                                         '장소':item['spot_nm'], \n",
    "                                                         '발생건수':item['occrrnc_cnt'],\n",
    "                                                         '위도':item['la_crd'],\n",
    "                                                         '경도':item['lo_crd']\n",
    "                                                        }, \n",
    "                                                       index=[0]) )\n",
    "    \n",
    "df_result = df_result.reset_index(drop=True) # 인덱스 초기화\n",
    "df_result\n"
   ]
  },
  {
   "cell_type": "code",
   "execution_count": null,
   "metadata": {
    "executionInfo": {
     "elapsed": 10,
     "status": "ok",
     "timestamp": 1634970755757,
     "user": {
      "displayName": "­이준호 / 학생 / 협동과정 인지과학전공",
      "photoUrl": "https://lh3.googleusercontent.com/a/default-user=s64",
      "userId": "00817346367135446304"
     },
     "user_tz": -540
    },
    "id": "GMwpLCwJ96wa"
   },
   "outputs": [],
   "source": []
  },
  {
   "cell_type": "markdown",
   "metadata": {
    "id": "fBEeKdyX96wa"
   },
   "source": [
    "## Folium 시각화"
   ]
  },
  {
   "cell_type": "code",
   "execution_count": null,
   "metadata": {
    "colab": {
     "base_uri": "https://localhost:8080/",
     "height": 35
    },
    "executionInfo": {
     "elapsed": 9,
     "status": "ok",
     "timestamp": 1634970755758,
     "user": {
      "displayName": "­이준호 / 학생 / 협동과정 인지과학전공",
      "photoUrl": "https://lh3.googleusercontent.com/a/default-user=s64",
      "userId": "00817346367135446304"
     },
     "user_tz": -540
    },
    "id": "r0D1ikMF-SJr",
    "outputId": "4ad5e406-e84f-4f40-d52c-e9222972d4ce"
   },
   "outputs": [],
   "source": [
    "import os\n",
    "os.getcwd()"
   ]
  },
  {
   "cell_type": "code",
   "execution_count": null,
   "metadata": {
    "colab": {
     "base_uri": "https://localhost:8080/"
    },
    "executionInfo": {
     "elapsed": 533,
     "status": "ok",
     "timestamp": 1634970756283,
     "user": {
      "displayName": "­이준호 / 학생 / 협동과정 인지과학전공",
      "photoUrl": "https://lh3.googleusercontent.com/a/default-user=s64",
      "userId": "00817346367135446304"
     },
     "user_tz": -540
    },
    "id": "gI5W-N_f96wb",
    "outputId": "d6dc2edd-e214-48e6-be81-f94a08ddce96",
    "scrolled": true
   },
   "outputs": [],
   "source": [
    "!jupyter trust ./Seoul_accident_map.ipynb"
   ]
  },
  {
   "cell_type": "code",
   "execution_count": null,
   "metadata": {
    "colab": {
     "base_uri": "https://localhost:8080/"
    },
    "executionInfo": {
     "elapsed": 8,
     "status": "ok",
     "timestamp": 1634970756284,
     "user": {
      "displayName": "­이준호 / 학생 / 협동과정 인지과학전공",
      "photoUrl": "https://lh3.googleusercontent.com/a/default-user=s64",
      "userId": "00817346367135446304"
     },
     "user_tz": -540
    },
    "id": "mMe7EOJXvges",
    "outputId": "583e5a95-baf4-4694-eb58-15db811c8e0e"
   },
   "outputs": [],
   "source": [
    "# 시도 경계 정보 다운로드\n",
    "!wget https://raw.githubusercontent.com/southkorea/southkorea-maps/master/kostat/2018/json/skorea-provinces-2018-geo.json"
   ]
  },
  {
   "cell_type": "code",
   "execution_count": null,
   "metadata": {
    "executionInfo": {
     "elapsed": 867,
     "status": "ok",
     "timestamp": 1634970757148,
     "user": {
      "displayName": "­이준호 / 학생 / 협동과정 인지과학전공",
      "photoUrl": "https://lh3.googleusercontent.com/a/default-user=s64",
      "userId": "00817346367135446304"
     },
     "user_tz": -540
    },
    "id": "JohBijjTwoDB"
   },
   "outputs": [],
   "source": [
    "# 시도 경계선 추출\n",
    "rfile = open('./skorea-provinces-2018-geo.json', 'r', encoding='utf-8').read()  # 파일 읽기\n",
    "jsonData = json.loads(rfile)  # json load\n",
    "\n",
    "# 대한민국 전체 json 데이터에서 서울시 데이터만 추출\n",
    "seoul_json = jsonData\n",
    "seoul_json['features'] = [jsonData['features'][0]]  # 가장 첫번째 feature가 서울시\n",
    "# seoul_json"
   ]
  },
  {
   "cell_type": "code",
   "execution_count": null,
   "metadata": {
    "colab": {
     "base_uri": "https://localhost:8080/",
     "height": 782
    },
    "executionInfo": {
     "elapsed": 9,
     "status": "ok",
     "timestamp": 1634970757149,
     "user": {
      "displayName": "­이준호 / 학생 / 협동과정 인지과학전공",
      "photoUrl": "https://lh3.googleusercontent.com/a/default-user=s64",
      "userId": "00817346367135446304"
     },
     "user_tz": -540
    },
    "id": "X9qHkT3r96wb",
    "outputId": "00a0c4a8-27f2-4e06-d6eb-0edb8d1d3798"
   },
   "outputs": [],
   "source": [
    "seoul_map = folium.Map(location=[37.5502, 126.982], zoom_start=11.1, tiles='cartodbpositron')\n",
    "\n",
    "\n",
    "# 서울시 경계 시각화\n",
    "folium.GeoJson(seoul_json, name='json_data', style_function = lambda x :{'fillColor': '#00000000',  # 경계 내부 채움 색상 -> 비우기\n",
    "                                                                        #  'color': 'black'  # 경계선 색상  # 주석 해제하면 검은색으로\n",
    "                                                                         }).add_to(seoul_map)\n",
    "\n",
    "\n",
    "# 지도 제목 표시\n",
    "\n",
    "map_title = '보행자-어린이 사고'  # 표시 제목\n",
    "\n",
    "folium.map.Marker(\n",
    "    [37.6952, 126.712],  # 제목 표기 위치\n",
    "    icon=DivIcon(\n",
    "        icon_size=(250,36),\n",
    "        icon_anchor=(0,0),\n",
    "        html=f'<div style=\"font-size: 20pt\">{map_title}</div>',\n",
    "        )\n",
    "    ).add_to(seoul_map)\n",
    "\n",
    "\n",
    "\n",
    "for idx in df_result.index:\n",
    "\n",
    "    la_ = df_result.loc[idx,'위도']\n",
    "    lo_ = df_result.loc[idx,'경도']\n",
    "    occr = df_result.loc[idx,'발생건수']  # 원의 크기\n",
    "    popup_text = df_result.loc[idx,'장소']  \n",
    "    \n",
    "    # 팝업 텍스트 박스 사이즈 조정\n",
    "    iframe = folium.IFrame(popup_text)\n",
    "    popup = folium.Popup(iframe,\n",
    "                         min_width=200,\n",
    "                         max_width=200)\n",
    "\n",
    "    \n",
    "    folium.CircleMarker(\n",
    "      [la_, lo_],  # 위도 경도\n",
    "      radius=int(occr) * 2,  # *(숫자)는 원의 크기가 너무 작아서 키우는 배수\n",
    "      color='red',  # 원 테두리 색\n",
    "      fill_color='red',  # 원 내부 색\n",
    "      popup=popup  # 클릭시 나타나는 팝업 텍스트\n",
    "    ).add_to(seoul_map)\n",
    "\n",
    "\n",
    "seoul_map"
   ]
  },
  {
   "cell_type": "code",
   "execution_count": null,
   "metadata": {
    "executionInfo": {
     "elapsed": 8,
     "status": "ok",
     "timestamp": 1634970757150,
     "user": {
      "displayName": "­이준호 / 학생 / 협동과정 인지과학전공",
      "photoUrl": "https://lh3.googleusercontent.com/a/default-user=s64",
      "userId": "00817346367135446304"
     },
     "user_tz": -540
    },
    "id": "MTlrzbK_96wc"
   },
   "outputs": [],
   "source": [
    "seoul_map.save('test_map.html')  # 파일 저장"
   ]
  },
  {
   "cell_type": "markdown",
   "metadata": {
    "id": "erq8oKm696we"
   },
   "source": [
    "# 전체 과정 함수화"
   ]
  },
  {
   "cell_type": "code",
   "execution_count": null,
   "metadata": {
    "executionInfo": {
     "elapsed": 5,
     "status": "ok",
     "timestamp": 1634970757745,
     "user": {
      "displayName": "­이준호 / 학생 / 협동과정 인지과학전공",
      "photoUrl": "https://lh3.googleusercontent.com/a/default-user=s64",
      "userId": "00817346367135446304"
     },
     "user_tz": -540
    },
    "id": "FecjiE_d96wf"
   },
   "outputs": [],
   "source": [
    "\n",
    "def get_accident_data(data_name):\n",
    "\n",
    "    df_result = pd.DataFrame()\n",
    "\n",
    "    # API url\n",
    "    if data_name=='어린이':\n",
    "        url = 'http://apis.data.go.kr/B552061/frequentzoneChild/getRestFrequentzoneChild'  # 보행자 어린이\n",
    "    elif data_name == '노인':\n",
    "        url = 'http://apis.data.go.kr/B552061/frequentzoneOldman/getRestFrequentzoneOldman'  # 보행자 노인\n",
    "    elif data_name == '무단횡단':\n",
    "        url = 'http://apis.data.go.kr/B552061/jaywalking/getRestJaywalking'  # 무단횡단\n",
    "    elif data_name == '이륜차':\n",
    "        url = 'http://apis.data.go.kr/B552468/acdntFreqocZone/getAcdntFreqocZone'\n",
    "\n",
    "\n",
    "    # 일반 인증키(Encoding)\n",
    "    my_key = 'WUODu1UyNif9cl9LO%2FgbX43ch97p1tFDM48UM8h05ivV0NOeEYaWSBWm9LNdstWaAXZWjhY1DpUu5G%2BUqg%2BUDA%3D%3D'\n",
    "    \n",
    "    if data_name in ['어린이', '노인', '무단횡단']:  # 이 세 가지는 API가 동일하므로 하나의 코드로 수집 가능\n",
    "\n",
    "        for search_year in range(2016,2020):\n",
    "\n",
    "            for gu, code in gu_dict.items():\n",
    "                params ={\n",
    "                        'searchYearCd' : f'{search_year}',  # 검색 년도\n",
    "                        'siDo' : '11', # 서울특별시 = 11\n",
    "                        'guGun' : code, # 검색 지역\n",
    "                        'type' : 'json', \n",
    "                        'numOfRows' : '100', \n",
    "                        'pageNo' : '1' \n",
    "                }\n",
    "\n",
    "\n",
    "                response = requests.get(f'{url}?serviceKey={my_key}', params=params)\n",
    "                result = dict(response.json())\n",
    "\n",
    "                if result['resultMsg'] == 'NODATA_ERROR':  # 요청시 데이터가 없는 경우\n",
    "            #         print('NODATA_ERROR', code)\n",
    "                    pass\n",
    "\n",
    "                else:  # 데이터가 있으면 아래 형태로 추가\n",
    "                    for item in result['items']['item']:\n",
    "\n",
    "                        df_result = df_result.append( pd.DataFrame( {'year':search_year,\n",
    "                                                                     'code':code, \n",
    "                                                                     '장소':item['spot_nm'], \n",
    "                                                                     '발생건수':item['occrrnc_cnt'],\n",
    "                                                                     '위도':item['la_crd'],\n",
    "                                                                     '경도':item['lo_crd']\n",
    "                                                                    }, \n",
    "                                                                   index=[0]) )\n",
    "\n",
    "\n",
    "\n",
    "    elif data_name == '이륜차':  # 이륜차는 API가 조금 다름\n",
    "\n",
    "        for gu, code in gu_dict.items():\n",
    "            params ={\n",
    "        #             'searchYearCd' : f'{search_year}',  # 검색 년도\n",
    "        #             'siDo' : '11', # 서울특별시 = 11\n",
    "        #             'guGun' : code, # 검색 지역\n",
    "                    'signguCode':f'11{code}',\n",
    "                    'dataType' : 'JSON', \n",
    "                    'numOfRows' : '100', \n",
    "                    'pageNo' : '1' \n",
    "            }\n",
    "\n",
    "\n",
    "            response = requests.get(f'{url}?serviceKey={my_key}', params=params)\n",
    "            result = dict(response.json())\n",
    "\n",
    "            if result['response']['header'] == 'NODATA_ERROR':  # 요청시 데이터가 없는 경우\n",
    "        #         print('NODATA_ERROR', code)\n",
    "                pass\n",
    "\n",
    "            else:  # 데이터가 있으면 아래 형태로 추가\n",
    "                for item in result['response']['body']['items']['item']:\n",
    "\n",
    "                    df_result = df_result.append( pd.DataFrame( {\n",
    "                                                                 'code':code, \n",
    "                                                                 '장소':f'{item[\"signguNm\"]} ({item[\"freqocZoneNm\"]})', # 서울시 종로구 (카페베네)\n",
    "                                                                 '발생건수':item['acdntCo'],\n",
    "                                                                 '위도':item['centerY'],\n",
    "                                                                 '경도':item['centerX']\n",
    "                                                                }, \n",
    "                                                               index=[0]) )\n",
    "\n",
    "                    \n",
    "    df_result = df_result.reset_index(drop=True) # 인덱스 초기화\n",
    "    df_result.to_csv(f'{data_name}_data.csv', index=False, encoding='utf-8-sig')\n",
    "                        \n",
    "    return df_result\n",
    "\n",
    "\n"
   ]
  },
  {
   "cell_type": "code",
   "execution_count": null,
   "metadata": {
    "executionInfo": {
     "elapsed": 5,
     "status": "ok",
     "timestamp": 1634970757746,
     "user": {
      "displayName": "­이준호 / 학생 / 협동과정 인지과학전공",
      "photoUrl": "https://lh3.googleusercontent.com/a/default-user=s64",
      "userId": "00817346367135446304"
     },
     "user_tz": -540
    },
    "id": "OyDn7EXJ96wg"
   },
   "outputs": [],
   "source": [
    "\n",
    "def plot_to_map(df_data, data_name, plot_color):\n",
    "    \n",
    "    if data_name != '이륜차':\n",
    "        map_title = f'보행자-{data_name} 사고 다발구역'\n",
    "    else:\n",
    "        map_title = f'이륜차 사고 다발구역'\n",
    "\n",
    "    seoul_map = folium.Map(location=[37.5502, 126.982], zoom_start=11.1, tiles='cartodbpositron')\n",
    "\n",
    "    # 서울시 경계 시각화\n",
    "    folium.GeoJson(seoul_json, name='json_data', style_function = lambda x :{'fillColor': '#00000000',  # 경계 내부 채움 색상 -> 비우기\n",
    "                                                                            #  'color': 'black'  # 경계선 색상  # 주석 해제하면 검은색으로\n",
    "                                                                            }).add_to(seoul_map)\n",
    "\n",
    "\n",
    "    folium.map.Marker(\n",
    "        [37.6982, 126.709],  # 제목 표기 위치\n",
    "        icon=DivIcon(\n",
    "            icon_size=(500,36),\n",
    "            icon_anchor=(0,0),\n",
    "            html=f'<div style=\"font-size: 20pt\">{map_title}</div>',\n",
    "            )\n",
    "        ).add_to(seoul_map)\n",
    "\n",
    "\n",
    "    # 범례의 스타일\n",
    "    lgd_txt = '<span style=\"color: {col};font-size: 12pt\">{txt}</span>'\n",
    "                      # 색상->뒤에서 지정   # 폰트 크기\n",
    "    \n",
    "    # feature group ( marker가 저장될 그룹 ) 설정\n",
    "    fg = folium.FeatureGroup(name= lgd_txt.format( txt= data_name, col= plot_color))\n",
    "                                                    # 표시 텍스트       # 그룹 색상\n",
    "    for idx in df_data.index:\n",
    "\n",
    "        la_ = df_data.loc[idx,'위도']\n",
    "        lo_ = df_data.loc[idx,'경도']\n",
    "        occr = df_data.loc[idx,'발생건수']  # 원의 크기\n",
    "        popup_text = df_data.loc[idx,'장소']  \n",
    "\n",
    "        # 팝업 텍스트 박스 사이즈 조정\n",
    "        iframe = folium.IFrame(popup_text)\n",
    "        popup = folium.Popup(iframe,\n",
    "                             min_width=200,\n",
    "                             max_width=200)\n",
    "\n",
    "\n",
    "\n",
    "        # 마커 1개씩 그리기\n",
    "        marker = folium.CircleMarker(\n",
    "                                      [la_, lo_],  # 위도 경도\n",
    "                                      radius=int(occr) ,  # *(숫자)는 원의 크기가 너무 작아서 키우는 배수\n",
    "                                      color=plot_color,  # 원 테두리 색\n",
    "                                      fill_color=plot_color,  # 원 내부 색\n",
    "                                      weight=1,  # 원 테두리 두께\n",
    "                                      popup=popup  # 클릭시 나타나는 팝업 텍스트\n",
    "                                    )\n",
    "\n",
    "        fg.add_child(marker)  # 그린 마커를 feature group에 추가\n",
    "        \n",
    "    seoul_map.add_child(fg)  # feature group을 map에 추가\n",
    "\n",
    "\n",
    "    folium.map.LayerControl('topleft', collapsed= False).add_to(seoul_map)  # map에 범례\" 추가\n",
    "\n",
    "\n",
    "    \n",
    "    seoul_map.save(f'{map_title}.html')  # 파일 저장 - 파일명==지도제목\n",
    "    \n",
    "    return seoul_map\n"
   ]
  },
  {
   "cell_type": "markdown",
   "metadata": {
    "id": "aV0tnwA596wh"
   },
   "source": [
    "# 개별 데이터 시각화"
   ]
  },
  {
   "cell_type": "code",
   "execution_count": null,
   "metadata": {
    "colab": {
     "base_uri": "https://localhost:8080/",
     "height": 782
    },
    "executionInfo": {
     "elapsed": 46383,
     "status": "ok",
     "timestamp": 1634970804124,
     "user": {
      "displayName": "­이준호 / 학생 / 협동과정 인지과학전공",
      "photoUrl": "https://lh3.googleusercontent.com/a/default-user=s64",
      "userId": "00817346367135446304"
     },
     "user_tz": -540
    },
    "id": "MBv8YFem96wh",
    "outputId": "3a0bd6b2-3e06-4c27-e216-c96c2e0325b2"
   },
   "outputs": [],
   "source": [
    "# 수집할 데이터 이름\n",
    "\n",
    "data_name = '어린이'  # 어린이/노인/무단횡단/이륜차 중 하나\n",
    "plot_color = 'red'\n",
    "\n",
    "df_accident = get_accident_data(data_name)  # API에서 데이터 수집 -> pandas dataframe으로 저장\n",
    "\n",
    "plot_to_map(df_accident, data_name, plot_color)  # dataframe -> folium 시각화\n",
    "# 함수 내부에서 html로 저장까지 이루어짐\n"
   ]
  },
  {
   "cell_type": "code",
   "execution_count": null,
   "metadata": {
    "colab": {
     "base_uri": "https://localhost:8080/",
     "height": 782
    },
    "executionInfo": {
     "elapsed": 50982,
     "status": "ok",
     "timestamp": 1634970855102,
     "user": {
      "displayName": "­이준호 / 학생 / 협동과정 인지과학전공",
      "photoUrl": "https://lh3.googleusercontent.com/a/default-user=s64",
      "userId": "00817346367135446304"
     },
     "user_tz": -540
    },
    "id": "aVAMUNMW96wi",
    "outputId": "72f22df0-aa5e-441c-a9e1-7dc50328deac"
   },
   "outputs": [],
   "source": [
    "# 수집할 데이터 이름\n",
    "\n",
    "data_name = '노인'  # 어린이/노인/무단횡단/이륜차 중 하나\n",
    "plot_color = 'orange'  # yellow가 너무 형광색이라 변경 / 다른 색상 이름: gold, blue, skyblue 등\n",
    "\n",
    "df_accident = get_accident_data(data_name)  # API에서 데이터 수집 -> pandas dataframe으로 저장\n",
    "\n",
    "plot_to_map(df_accident, data_name, plot_color)  # dataframe -> folium 시각화\n",
    "# 함수 내부에서 html로 저장까지 이루어짐\n"
   ]
  },
  {
   "cell_type": "code",
   "execution_count": null,
   "metadata": {
    "colab": {
     "base_uri": "https://localhost:8080/",
     "height": 782
    },
    "executionInfo": {
     "elapsed": 47244,
     "status": "ok",
     "timestamp": 1634970902332,
     "user": {
      "displayName": "­이준호 / 학생 / 협동과정 인지과학전공",
      "photoUrl": "https://lh3.googleusercontent.com/a/default-user=s64",
      "userId": "00817346367135446304"
     },
     "user_tz": -540
    },
    "id": "79SrbQnK96wj",
    "outputId": "62209815-aac4-4e54-ae23-5602cfe9031c"
   },
   "outputs": [],
   "source": [
    "# 수집할 데이터 이름\n",
    "\n",
    "data_name = '무단횡단'  # 어린이/노인/무단횡단/이륜차 중 하나\n",
    "plot_color = 'green'\n",
    "\n",
    "df_accident = get_accident_data(data_name)  # API에서 데이터 수집 -> pandas dataframe으로 저장\n",
    "\n",
    "plot_to_map(df_accident, data_name, plot_color)  # dataframe -> folium 시각화\n",
    "# 함수 내부에서 html로 저장까지 이루어짐\n"
   ]
  },
  {
   "cell_type": "code",
   "execution_count": null,
   "metadata": {
    "colab": {
     "base_uri": "https://localhost:8080/",
     "height": 782
    },
    "executionInfo": {
     "elapsed": 15180,
     "status": "ok",
     "timestamp": 1634970917505,
     "user": {
      "displayName": "­이준호 / 학생 / 협동과정 인지과학전공",
      "photoUrl": "https://lh3.googleusercontent.com/a/default-user=s64",
      "userId": "00817346367135446304"
     },
     "user_tz": -540
    },
    "id": "JWgf9Raq96wj",
    "outputId": "f76df839-806b-402f-dcb5-bf7aa4f71f09"
   },
   "outputs": [],
   "source": [
    "# 수집할 데이터 이름\n",
    "\n",
    "data_name = '이륜차'  # 어린이/노인/무단횡단/이륜차 중 하나\n",
    "plot_color = 'purple'\n",
    "\n",
    "df_accident = get_accident_data(data_name)  # API에서 데이터 수집 -> pandas dataframe으로 저장\n",
    "\n",
    "plot_to_map(df_accident, data_name, plot_color)  # dataframe -> folium 시각화\n",
    "# 함수 내부에서 html로 저장까지 이루어짐\n"
   ]
  },
  {
   "cell_type": "code",
   "execution_count": null,
   "metadata": {
    "executionInfo": {
     "elapsed": 14,
     "status": "ok",
     "timestamp": 1634970917506,
     "user": {
      "displayName": "­이준호 / 학생 / 협동과정 인지과학전공",
      "photoUrl": "https://lh3.googleusercontent.com/a/default-user=s64",
      "userId": "00817346367135446304"
     },
     "user_tz": -540
    },
    "id": "xRSazsQJ96wk"
   },
   "outputs": [],
   "source": []
  },
  {
   "cell_type": "code",
   "execution_count": null,
   "metadata": {
    "executionInfo": {
     "elapsed": 14,
     "status": "ok",
     "timestamp": 1634970917507,
     "user": {
      "displayName": "­이준호 / 학생 / 협동과정 인지과학전공",
      "photoUrl": "https://lh3.googleusercontent.com/a/default-user=s64",
      "userId": "00817346367135446304"
     },
     "user_tz": -540
    },
    "id": "55qCw8bE96wk"
   },
   "outputs": [],
   "source": []
  },
  {
   "cell_type": "markdown",
   "metadata": {
    "id": "FcrBQB1896wl"
   },
   "source": [
    "# 전체 데이터 시각화"
   ]
  },
  {
   "cell_type": "markdown",
   "metadata": {
    "id": "YJkuQNCB96wl"
   },
   "source": [
    "## 데이터 수집"
   ]
  },
  {
   "cell_type": "code",
   "execution_count": null,
   "metadata": {
    "colab": {
     "base_uri": "https://localhost:8080/",
     "height": 423
    },
    "executionInfo": {
     "elapsed": 153857,
     "status": "ok",
     "timestamp": 1634971071351,
     "user": {
      "displayName": "­이준호 / 학생 / 협동과정 인지과학전공",
      "photoUrl": "https://lh3.googleusercontent.com/a/default-user=s64",
      "userId": "00817346367135446304"
     },
     "user_tz": -540
    },
    "id": "3omAouF696wl",
    "outputId": "31addf59-aba4-4c5b-a01b-24201168dab0"
   },
   "outputs": [],
   "source": [
    "# 4개 종류 데이터를 각각 수집\n",
    "\n",
    "df_list = []\n",
    "\n",
    "name_list = ['어린이', '노인', '무단횡단', '이륜차']\n",
    "color_list = ['red', 'orange', 'green', 'purple']\n",
    "\n",
    "for data_name, plot_color in zip(name_list, color_list):  # 각각의 리스트에서 (name, color)를 쌍으로 꺼내와서 아래 코드 실행\n",
    "\n",
    "    df_accident = get_accident_data(data_name)  # API에서 데이터 수집 -> pandas dataframe으로 저장\n",
    "    df_accident['color'] = plot_color  # 데이터프레임에 시각화 색상 저장\n",
    "    df_accident['acdt_name'] = data_name  # 사고 이름\n",
    "    \n",
    "    df_list.append(df_accident)\n",
    "    \n",
    "df_total = pd.concat(df_list).reset_index(drop=True)\n",
    "\n",
    "# 구 이름 정보 추가\n",
    "df_total['구'] = df_total['장소'].apply(lambda x: ' '.join(x.split()[0:2]))\n",
    "\n",
    "\n",
    "df_total\n",
    "\n"
   ]
  },
  {
   "cell_type": "code",
   "execution_count": null,
   "metadata": {
    "executionInfo": {
     "elapsed": 18,
     "status": "ok",
     "timestamp": 1634971071354,
     "user": {
      "displayName": "­이준호 / 학생 / 협동과정 인지과학전공",
      "photoUrl": "https://lh3.googleusercontent.com/a/default-user=s64",
      "userId": "00817346367135446304"
     },
     "user_tz": -540
    },
    "id": "4KcaZkSn99_r"
   },
   "outputs": [],
   "source": []
  },
  {
   "cell_type": "markdown",
   "metadata": {
    "id": "B2IfxXUk_STk"
   },
   "source": [
    "### 구 별 시각화"
   ]
  },
  {
   "cell_type": "code",
   "execution_count": null,
   "metadata": {
    "executionInfo": {
     "elapsed": 14,
     "status": "ok",
     "timestamp": 1634971071355,
     "user": {
      "displayName": "­이준호 / 학생 / 협동과정 인지과학전공",
      "photoUrl": "https://lh3.googleusercontent.com/a/default-user=s64",
      "userId": "00817346367135446304"
     },
     "user_tz": -540
    },
    "id": "O6CYO9iH--A3"
   },
   "outputs": [],
   "source": []
  },
  {
   "cell_type": "markdown",
   "metadata": {
    "id": "cYCFXB6W_WOk"
   },
   "source": [
    "### 데이터 필터링 -> 시각화"
   ]
  },
  {
   "cell_type": "code",
   "execution_count": null,
   "metadata": {
    "colab": {
     "base_uri": "https://localhost:8080/",
     "height": 206
    },
    "executionInfo": {
     "elapsed": 15,
     "status": "ok",
     "timestamp": 1634971071357,
     "user": {
      "displayName": "­이준호 / 학생 / 협동과정 인지과학전공",
      "photoUrl": "https://lh3.googleusercontent.com/a/default-user=s64",
      "userId": "00817346367135446304"
     },
     "user_tz": -540
    },
    "id": "97QEFo209fgy",
    "outputId": "7a7a02c0-8150-43e7-dafc-b89ca919ae0b"
   },
   "outputs": [],
   "source": [
    "\n",
    "filter_acdt = '어린이'\n",
    "\n",
    "df_filtered = df_total[df_total['acdt_name']==filter_acdt]  # 정해진 사고 목록만 가져오기\n",
    "\n",
    "df_acdt_by_gu = df_filtered.groupby('구').sum()[['발생건수']]  # 위에서 필터링한 데이터에서 구 별 사고 총합 계산\n",
    "top5_gus = df_acdt_by_gu.index[:5]  # 상위 5개 구만 선택\n",
    "\n",
    "df_filtered = df_filtered[df_filtered['구'].str.contains('|'.join(top5_gus))]  # 상위 5개 구에 속하는 데이터만 필터링\n",
    "df_filtered = df_filtered.groupby('구').sum()[['발생건수']].sort_values(by='발생건수',ascending=False).reset_index() \n",
    "                 # 필터링된 데이터의 구 별 발생건수 총합  -> 발생건수 내림차순으로 정렬 -> 인덱스 초기화\n",
    "\n",
    "# 파일로 저장\n",
    "df_filtered.to_csv(f'./{filter_acdt}_교통사고_상위5개구.csv', encoding='utf-8-sig', index=False)\n",
    "\n",
    "df_filtered"
   ]
  },
  {
   "cell_type": "code",
   "execution_count": null,
   "metadata": {
    "colab": {
     "base_uri": "https://localhost:8080/",
     "height": 753
    },
    "executionInfo": {
     "elapsed": 1314,
     "status": "ok",
     "timestamp": 1634971072659,
     "user": {
      "displayName": "­이준호 / 학생 / 협동과정 인지과학전공",
      "photoUrl": "https://lh3.googleusercontent.com/a/default-user=s64",
      "userId": "00817346367135446304"
     },
     "user_tz": -540
    },
    "id": "dnhTHkCr7hPX",
    "outputId": "d5a5470b-20e8-4cb5-a3f1-bd4a7d9ac4dd"
   },
   "outputs": [],
   "source": [
    "import seaborn as sns\n",
    "\n",
    "fig, ax = plt.subplots(figsize=(10,5), dpi=150) # figsize=그림 크기, dpi=해상도\n",
    "fig.patch.set_facecolor('white')  # 그림 배경을 흰색으로\n",
    "sns.barplot(x='구', y='발생건수', data=df_filtered, ax=ax)\n",
    "ax.set_title(f'구 별 {filter_acdt} 사고 발생 건수 (상위 5개 구)', fontsize=20, pad=20)  # 제목 설정, 폰트 크기, 제목-그래프 여백 크기\n",
    "\n",
    "plt.show()"
   ]
  },
  {
   "cell_type": "code",
   "execution_count": null,
   "metadata": {
    "colab": {
     "base_uri": "https://localhost:8080/",
     "height": 753
    },
    "executionInfo": {
     "elapsed": 12,
     "status": "ok",
     "timestamp": 1634971072664,
     "user": {
      "displayName": "­이준호 / 학생 / 협동과정 인지과학전공",
      "photoUrl": "https://lh3.googleusercontent.com/a/default-user=s64",
      "userId": "00817346367135446304"
     },
     "user_tz": -540
    },
    "id": "9wHz3h2D--kS",
    "outputId": "59934444-8bd0-478e-e914-d7afc336a451"
   },
   "outputs": [],
   "source": [
    "\n",
    "filter_acdt = '노인'\n",
    "\n",
    "df_filtered = df_total[df_total['acdt_name']==filter_acdt]  # 정해진 사고 목록만 가져오기\n",
    "\n",
    "df_acdt_by_gu = df_filtered.groupby('구').sum()[['발생건수']]  # 위에서 필터링한 데이터에서 구 별 사고 총합 계산\n",
    "top5_gus = df_acdt_by_gu.index[:5]  # 상위 5개 구만 선택\n",
    "\n",
    "df_filtered = df_filtered[df_filtered['구'].str.contains('|'.join(top5_gus))]  # 상위 5개 구에 속하는 데이터만 필터링\n",
    "df_filtered = df_filtered.groupby('구').sum()[['발생건수']].sort_values(by='발생건수',ascending=False).reset_index() \n",
    "                 # 필터링된 데이터의 구 별 발생건수 총합  -> 발생건수 내림차순으로 정렬 -> 인덱스 초기화\n",
    "\n",
    "df_filtered.to_csv(f'./{filter_acdt}_교통사고_상위5개구.csv', encoding='utf-8-sig', index=False)\n",
    "\n",
    "\n",
    "\n",
    "fig, ax = plt.subplots(figsize=(10,5), dpi=150)\n",
    "fig.patch.set_facecolor('white')\n",
    "sns.barplot(x='구', y='발생건수', data=df_filtered, ax=ax)\n",
    "ax.set_title(f'구 별 {filter_acdt} 사고 발생 건수 (상위 5개 구)', fontsize=20, pad=20)\n",
    "\n",
    "plt.show()"
   ]
  },
  {
   "cell_type": "markdown",
   "metadata": {
    "id": "Rgok86H-_Z1-"
   },
   "source": [
    "- 출력된 이미지는 우클릭 -> 다른이름으로저장 으로 다운로드 가능"
   ]
  },
  {
   "cell_type": "code",
   "execution_count": null,
   "metadata": {
    "executionInfo": {
     "elapsed": 10,
     "status": "ok",
     "timestamp": 1634971072665,
     "user": {
      "displayName": "­이준호 / 학생 / 협동과정 인지과학전공",
      "photoUrl": "https://lh3.googleusercontent.com/a/default-user=s64",
      "userId": "00817346367135446304"
     },
     "user_tz": -540
    },
    "id": "5mbdzWtl_Zf-"
   },
   "outputs": [],
   "source": []
  },
  {
   "cell_type": "code",
   "execution_count": null,
   "metadata": {
    "executionInfo": {
     "elapsed": 10,
     "status": "ok",
     "timestamp": 1634971072666,
     "user": {
      "displayName": "­이준호 / 학생 / 협동과정 인지과학전공",
      "photoUrl": "https://lh3.googleusercontent.com/a/default-user=s64",
      "userId": "00817346367135446304"
     },
     "user_tz": -540
    },
    "id": "95JcoTkZ_Zdv"
   },
   "outputs": [],
   "source": []
  },
  {
   "cell_type": "markdown",
   "metadata": {
    "id": "1VKOOAyy96wm"
   },
   "source": [
    "## 데이터 시각화"
   ]
  },
  {
   "cell_type": "code",
   "execution_count": null,
   "metadata": {
    "colab": {
     "base_uri": "https://localhost:8080/",
     "height": 782,
     "output_embedded_package_id": "1TPAh5QfCl-Esaiq9fzajgz1jQUJXDl8K"
    },
    "executionInfo": {
     "elapsed": 6691,
     "status": "ok",
     "timestamp": 1634971079347,
     "user": {
      "displayName": "­이준호 / 학생 / 협동과정 인지과학전공",
      "photoUrl": "https://lh3.googleusercontent.com/a/default-user=s64",
      "userId": "00817346367135446304"
     },
     "user_tz": -540
    },
    "id": "JIQRIohb96wm",
    "outputId": "c3b96bd0-0492-4500-fed4-66f627ef104b"
   },
   "outputs": [],
   "source": [
    "\n",
    "# 위에서 수집한 전체 데이터를 한 번에 plot\n",
    "\n",
    "# 맵 생성\n",
    "seoul_map = folium.Map(location=[37.5502, 126.982], zoom_start=11.1, tiles='cartodbpositron')\n",
    "\n",
    "# 서울시 경계 시각화\n",
    "folium.GeoJson(seoul_json, name='json_data', style_function = lambda x :{'fillColor': '#00000000',  # 경계 내부 채움 색상 -> 비우기\n",
    "                                                                        #  'color': 'black'  # 경계선 색상  # 주석 해제하면 검은색으로\n",
    "                                                                        }).add_to(seoul_map)\n",
    "\n",
    "\n",
    "# 지도 제목 표시\n",
    "map_title = '전체 사고 다발 지역'  # 표시 제목\n",
    "\n",
    "folium.map.Marker(\n",
    "    [37.6982, 126.709],  # 제목 표기 위치\n",
    "    icon=DivIcon(\n",
    "        icon_size=(500,36),\n",
    "        icon_anchor=(0,0),\n",
    "        html=f'<div style=\"font-size: 20pt\">{map_title}</div>',\n",
    "        )\n",
    "    ).add_to(seoul_map)\n",
    "\n",
    "\n",
    "\n",
    "\n",
    "# 범례의 스타일\n",
    "lgd_txt = '<span style=\"color: {col};font-size: 12pt\">{txt}</span>'\n",
    "                  # 색상->뒤에서 지정   # 폰트 크기\n",
    "\n",
    "\n",
    "df_data = df_total  # 시각화에 사용할 데이터프레임은 위에서 만든 전체 사고 기록 데이터\n",
    "\n",
    "for acdt_name in df_total['acdt_name'].unique():  # 사고 종류에 따라 group을 지어 시각화\n",
    "        \n",
    "    df_data = df_total[df_total['acdt_name']==acdt_name]  # 현재 보고있는 사고 이름(어린이/노인/무단횡단/이륜차)만 아래 코드 실행\n",
    "    plot_color = df_data['color'].tolist()[0]  # 현재 선택 사고의 색상 가져오기\n",
    "    \n",
    "    fg = folium.FeatureGroup(name= lgd_txt.format( txt= acdt_name, col= plot_color))\n",
    "    # marker를 저장할 feature group 설정 - 표시 텍스트 속성: lgd_txt, 표시 텍스트: acdt_name, 표시 색상: plot_color\n",
    "\n",
    "    for idx in df_data.index:  # > 이륜차 데이터가 많아서 먼저 그려지도록 \n",
    "                                          #    순서를 뒤집어서(이륜차가 아래에 그려지도록) 실행\n",
    "        la_ = df_data.loc[idx,'위도']\n",
    "        lo_ = df_data.loc[idx,'경도']\n",
    "\n",
    "        occr = df_data.loc[idx,'발생건수']  # 원의 크기\n",
    "#         plot_color = df_data.loc[idx, 'color']  # 원 색상  # > 위에서 지정\n",
    "#         acdt_name = df_data.loc[idx, 'acdt_name']          # > 위에서 지정\n",
    "\n",
    "        popup_text = df_data.loc[idx,'장소']  \n",
    "\n",
    "        # 팝업 텍스트 박스 사이즈 조정\n",
    "        iframe = folium.IFrame(popup_text)\n",
    "        popup = folium.Popup(iframe,\n",
    "                             min_width=200,\n",
    "                             max_width=200)\n",
    "\n",
    "\n",
    "        # 마커 1개씩 그리기\n",
    "        marker = folium.CircleMarker(\n",
    "                                      [la_, lo_],  # 위도 경도\n",
    "                                      radius=int(occr) ,  # *(숫자)는 원의 크기가 너무 작아서 키우는 배수\n",
    "                                      color=plot_color,  # 원 테두리 색\n",
    "                                      fill_color=plot_color,  # 원 내부 색\n",
    "                                      weight=1,  # 원 테두리 두께\n",
    "                                      popup=popup  # 클릭시 나타나는 팝업 텍스트\n",
    "                                    )\n",
    "\n",
    "        fg.add_child(marker)  # 그린 마커를 feature group에 추가\n",
    "        \n",
    "    seoul_map.add_child(fg)  # feature group을 map에 추가\n",
    "\n",
    "\n",
    "\n",
    "folium.map.LayerControl('topleft', collapsed= False).add_to(seoul_map)  # map에 범례\" 추가\n",
    "\n",
    "\n",
    "\n",
    "seoul_map.save(f'{map_title}.html')  # 파일 저장 - 파일명==지도제목\n",
    "\n",
    "seoul_map\n"
   ]
  },
  {
   "cell_type": "markdown",
   "metadata": {
    "id": "O4q7e_sx96wm"
   },
   "source": [
    "- 왼쪽 상단 범례에서 체크하는 걸로 데이터 시각화를 보고 끌 수 있음\n",
    "    - 껐다 켜면 기존 시각화 \"위에\" 새로 그려짐\n",
    "    - 기본 출력에서 `무단횡단->노인->어린이` 순으로 껐다 켜시면 시각화가 더 잘 보입니다\n",
    "    \n",
    "- 확대해서 보면 사고 지역 특징이 더 잘 나옵니다\n",
    "  - 이륜차 사고는 대부분 사거리에서 일어나는 듯 합니다\n",
    "  - 이륜차 사고를 제외하고, 3가지 보행자 사고가 몰아서 나는 곳도 있습니다(신림동 좌측)\n",
    "  - 노인 사고는 동대문구와 종로구에서 집중적으로 많이 일어납니다\n",
    "  "
   ]
  },
  {
   "cell_type": "code",
   "execution_count": null,
   "metadata": {
    "executionInfo": {
     "elapsed": 151,
     "status": "ok",
     "timestamp": 1634971079349,
     "user": {
      "displayName": "­이준호 / 학생 / 협동과정 인지과학전공",
      "photoUrl": "https://lh3.googleusercontent.com/a/default-user=s64",
      "userId": "00817346367135446304"
     },
     "user_tz": -540
    },
    "id": "bX3hfDBg96wn"
   },
   "outputs": [],
   "source": []
  }
 ],
 "metadata": {
  "colab": {
   "collapsed_sections": [],
   "name": "Seoul_accident_map.ipynb",
   "provenance": []
  },
  "kernelspec": {
   "display_name": "Python 3",
   "language": "python",
   "name": "python3"
  },
  "language_info": {
   "codemirror_mode": {
    "name": "ipython",
    "version": 3
   },
   "file_extension": ".py",
   "mimetype": "text/x-python",
   "name": "python",
   "nbconvert_exporter": "python",
   "pygments_lexer": "ipython3",
   "version": "3.8.8"
  }
 },
 "nbformat": 4,
 "nbformat_minor": 1
}
