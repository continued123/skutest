{
  "cells": [
    {
      "cell_type": "code",
      "execution_count": null,
      "id": "a642c979",
      "metadata": {
        "id": "a642c979",
        "outputId": "8486fa69-a193-4acc-d607-30809181c996"
      },
      "outputs": [
        {
          "name": "stdout",
          "output_type": "stream",
          "text": [
            "검색어를 입력하세요: 졸음운전\n",
            "[2021-12-17 09:15:32.158664] Url Request Success\n",
            "[2021-12-17 09:15:32.416579] Url Request Success\n",
            "[2021-12-17 09:15:32.657087] Url Request Success\n",
            "[2021-12-17 09:15:32.868300] Url Request Success\n",
            "[2021-12-17 09:15:33.085389] Url Request Success\n",
            "[2021-12-17 09:15:33.345306] Url Request Success\n",
            "[2021-12-17 09:15:33.621312] Url Request Success\n",
            "[2021-12-17 09:15:33.922300] Url Request Success\n",
            "[2021-12-17 09:15:34.187372] Url Request Success\n",
            "[2021-12-17 09:15:34.450363] Url Request Success\n",
            "HTTP Error 400: Bad Request\n",
            "[2021-12-17 09:15:34.604349] Error for URL : https://openapi.naver.com/v1/search/news.json?query=%EC%A1%B8%EC%9D%8C%EC%9A%B4%EC%A0%84&start=1001&display=100\n",
            "전체 검색 : 61989 건\n",
            "가져온 데이터 : 1000 건\n",
            "졸음운전_naver_news.json SAVED\n"
          ]
        }
      ],
      "source": [
        "import os\n",
        "import sys\n",
        "import urllib.request\n",
        "import datetime\n",
        "import time\n",
        "import json\n",
        "\n",
        "# 네이버 개발자에서 받은 id랑 secret입니다.\n",
        "client_id = '1ZxGjoNA91T79pH0IDw9'\n",
        "client_secret = 'DhVYpCvwoP'\n",
        "\n",
        "# [CODE 1] 접속요청 -> 응답을 받아 return\n",
        "def getRequestUrl(url):\n",
        "    req = urllib.request.Request(url)\n",
        "    req.add_header('X-Naver-Client-Id', client_id)\n",
        "    req.add_header('X-Naver-Client-Secret', client_secret)\n",
        "    \n",
        "    # 요청이 처리되면 응답을 response에 저장. (code가 200이면 성공)\n",
        "    try:\n",
        "        response = urllib.request.urlopen(req)\n",
        "        if response.getcode() == 200:\n",
        "            print('[%s] Url Request Success' % datetime.datetime.now())\n",
        "            return response.read().decode('utf-8')\n",
        "\n",
        "    # 요청이 처리되지 않으면 에러 메시지를 반환.\n",
        "    except Exception as e:\n",
        "        print(e)\n",
        "        print('[%s] Error for URL : %s' % (datetime.datetime.now(), url))\n",
        "        return None\n",
        "    \n",
        "# [CODE 2] 네이버 뉴스 검색 url 만들기 -> [CODE 1]을 호출하여 받은 응답 데이터를 json 파일로 변환.\n",
        "def getNaverSearch(node, srcText, start, display):\n",
        "    base = \"https://openapi.naver.com/v1/search\"\n",
        "    node = \"/%s.json\" % node\n",
        "    parameters = \"?query=%s&start=%s&display=%s\" % (urllib.parse.quote(srcText), start, display)\n",
        "    \n",
        "    url = base + node + parameters # 요청 url을 구성.\n",
        "    responseDecode = getRequestUrl(url) # [CODE 1] 호출하여 받은 응답을 responseDecode에 저장.\n",
        "    \n",
        "    if (responseDecode == None):\n",
        "        return None\n",
        "    else:\n",
        "        return json.loads(responseDecode) # json 파일로 변환.\n",
        "    \n",
        "# [CODE 3] json에서 필요한 항목만 딕셔너리로 정리.\n",
        "def getPostData(post, jsonResult, cnt):\n",
        "    title = post['title']\n",
        "    description = post['description']\n",
        "    org_link = post['originallink']\n",
        "    link = post['link']\n",
        "    \n",
        "    pDate = datetime.datetime.strptime(post['pubDate'], '%a, %d %b %Y %H:%M:%S +0900') # 한국 표준시로 바꿈.\n",
        "    pDate = pDate.strftime('%Y-%m-%d %H:%M:%S')\n",
        "    \n",
        "    jsonResult.append({'cnt':cnt, 'title':title, 'description':description, 'pDate':pDate}) # 딕셔너리 구성.\n",
        "    return\n",
        "\n",
        "# [CODE 0]\n",
        "def main():\n",
        "    node = 'news' # 크롤링 대상\n",
        "    srcText = input('검색어를 입력하세요: ')\n",
        "    cnt = 0\n",
        "    jsonResult = []\n",
        "    \n",
        "    jsonResponse = getNaverSearch(node, srcText, 1, 100) # [CODE 2]\n",
        "    total = jsonResponse['total']\n",
        "    \n",
        "    while ((jsonResponse != None) and (jsonResponse['display'] != 0)): # 검색 결과에 데이터가 있으면 검색 결과를 한 개씩 처리.\n",
        "        for post in jsonResponse['items']:\n",
        "            cnt += 1\n",
        "            getPostData(post, jsonResult, cnt) # [CODE 3]\n",
        "            \n",
        "        start = jsonResponse['start'] + jsonResponse['display']\n",
        "        jsonResponse = getNaverSearch(node, srcText, start, 100) # [CODE 2]\n",
        "        \n",
        "    print('전체 검색 : %d 건' % total)\n",
        "    \n",
        "    with open('%s_naver_%s.json' % (srcText, node), 'w', encoding = 'utf8') as outfile:\n",
        "        jsonFile = json.dumps(jsonResult, indent = 4, sort_keys = True, ensure_ascii = False)\n",
        "        outfile.write(jsonFile)\n",
        "        \n",
        "    print('가져온 데이터 : %d 건' % (cnt))\n",
        "    print('%s_naver_%s.json SAVED' % (srcText, node))\n",
        "    \n",
        "if __name__=='__main__':\n",
        "    main()"
      ]
    },
    {
      "cell_type": "code",
      "execution_count": null,
      "id": "66780779",
      "metadata": {
        "id": "66780779",
        "outputId": "de2b6314-4310-451e-8460-1ccc52abfa2a"
      },
      "outputs": [
        {
          "data": {
            "text/plain": [
              "61790"
            ]
          },
          "execution_count": 3,
          "metadata": {},
          "output_type": "execute_result"
        }
      ],
      "source": [
        "800*23 + 15100 + 1230*23"
      ]
    },
    {
      "cell_type": "code",
      "execution_count": null,
      "id": "533a205a",
      "metadata": {
        "id": "533a205a"
      },
      "outputs": [],
      "source": [
        ""
      ]
    }
  ],
  "metadata": {
    "kernelspec": {
      "display_name": "Python 3 (ipykernel)",
      "language": "python",
      "name": "python3"
    },
    "language_info": {
      "codemirror_mode": {
        "name": "ipython",
        "version": 3
      },
      "file_extension": ".py",
      "mimetype": "text/x-python",
      "name": "python",
      "nbconvert_exporter": "python",
      "pygments_lexer": "ipython3",
      "version": "3.8.6"
    },
    "colab": {
      "name": "네이버기사크롤링.ipynb",
      "provenance": [],
      "collapsed_sections": []
    }
  },
  "nbformat": 4,
  "nbformat_minor": 5
}